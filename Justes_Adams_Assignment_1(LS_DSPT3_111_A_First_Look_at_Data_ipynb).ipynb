{
  "nbformat": 4,
  "nbformat_minor": 0,
  "metadata": {
    "colab": {
      "name": "Justes Adams - Assignment 1(LS DSPT3 111 A First Look at Data.ipynb)",
      "version": "0.3.2",
      "provenance": [],
      "collapsed_sections": [],
      "include_colab_link": true
    },
    "kernelspec": {
      "name": "python3",
      "display_name": "Python 3"
    }
  },
  "cells": [
    {
      "cell_type": "markdown",
      "metadata": {
        "id": "view-in-github",
        "colab_type": "text"
      },
      "source": [
        "<a href=\"https://colab.research.google.com/github/anefthma/Assignments/blob/master/Justes_Adams_Assignment_1(LS_DSPT3_111_A_First_Look_at_Data_ipynb).ipynb\" target=\"_parent\"><img src=\"https://colab.research.google.com/assets/colab-badge.svg\" alt=\"Open In Colab\"/></a>"
      ]
    },
    {
      "cell_type": "markdown",
      "metadata": {
        "id": "Okfr_uhwhS1X",
        "colab_type": "text"
      },
      "source": [
        "# Lambda School Data Science - A First Look at Data\n",
        "\n"
      ]
    },
    {
      "cell_type": "markdown",
      "metadata": {
        "id": "9dtJETFRhnOG",
        "colab_type": "text"
      },
      "source": [
        "## Lecture - let's explore Python DS libraries and examples!\n",
        "\n",
        "The Python Data Science ecosystem is huge. You've seen some of the big pieces - pandas, scikit-learn, matplotlib. What parts do you want to see more of?"
      ]
    },
    {
      "cell_type": "code",
      "metadata": {
        "id": "WiBkgmPJhmhE",
        "colab_type": "code",
        "outputId": "e0957289-da77-4aa9-d101-9a97fb347c99",
        "colab": {
          "base_uri": "https://localhost:8080/",
          "height": 35
        }
      },
      "source": [
        "2 + 1"
      ],
      "execution_count": 0,
      "outputs": [
        {
          "output_type": "execute_result",
          "data": {
            "text/plain": [
              "3"
            ]
          },
          "metadata": {
            "tags": []
          },
          "execution_count": 1
        }
      ]
    },
    {
      "cell_type": "markdown",
      "metadata": {
        "id": "lOqaPds9huME",
        "colab_type": "text"
      },
      "source": [
        "## Assignment - now it's your turn\n",
        "\n",
        "Pick at least one Python DS library, and using documentation/examples reproduce in this notebook something cool. It's OK if you don't fully understand it or get it 100% working, but do put in effort and look things up."
      ]
    },
    {
      "cell_type": "code",
      "metadata": {
        "id": "TGUS79cOhPWj",
        "colab_type": "code",
        "outputId": "91097a0b-0432-4b83-856e-b8fa3dd081f1",
        "colab": {
          "base_uri": "https://localhost:8080/",
          "height": 52
        }
      },
      "source": [
        "# TODO - your code here \"reproduce in this notebook something cool\" is pretty vague and I'm confused why the pre-course covered so much more than this, but okay :)\n",
        "\n",
        "import random\n",
        "\n",
        "# In this farmer's market, we label carrots with numbers. All even carrots are fresh, but there are still \"odd\" and moldy carrots at this carrot stand!!!\n",
        "carrots = [1, 2, 3, 4, 5, 6, 7, 8, 9, 10, 24, 56, 15626212, 9328472938, 1231231234, 88]\n",
        "fresh_carrots = []\n",
        "\n",
        "\n",
        "for freshness in carrots:\n",
        "  if freshness % 2 == 0:\n",
        "    fresh_carrots.append(freshness)\n",
        "\n",
        "print('Carrot(s) with number', fresh_carrots, 'is/are fresh!')\n",
        "print('You would like to buy a carrot? Allow me to hand you a random carrot. Your carrot is carrot number', random.choice(fresh_carrots))\n",
        "\n",
        "\n",
        "\n",
        "\n",
        "# Use what we did live in lecture as an example"
      ],
      "execution_count": 0,
      "outputs": [
        {
          "output_type": "stream",
          "text": [
            "Carrot(s) with number [2, 4, 6, 8, 10, 24, 56, 15626212, 9328472938, 1231231234, 88] is/are fresh!\n",
            "You would like to buy a carrot? Allow me to hand you a random carrot. Your carrot is carrot number 9328472938\n"
          ],
          "name": "stdout"
        }
      ]
    },
    {
      "cell_type": "markdown",
      "metadata": {
        "id": "BT9gdS7viJZa",
        "colab_type": "text"
      },
      "source": [
        "### Assignment questions\n",
        "\n",
        "After you've worked on some code, answer the following questions in this text block:\n",
        "\n",
        "1.  Describe in a paragraph of text what you did and why, as if you were writing an email to somebody interested but nontechnical.\n",
        "\n",
        "2.  What was the most challenging part of what you did?\n",
        "\n",
        "3.  What was the most interesting thing you learned?\n",
        "\n",
        "4.  What area would you like to explore with more time?\n",
        "\n",
        "\n"
      ]
    },
    {
      "cell_type": "markdown",
      "metadata": {
        "id": "uSoqcbpe4qpH",
        "colab_type": "text"
      },
      "source": [
        "1. Imagine you are going to a fun farmer's market. You walk up to a carrot stand, and have NO IDEA which carrots are fresh, or which one of the carrots that ARE fresh that you even want to purchase! This simple bit of Python will weed out all the fresh carrots, AND it will randomly choose a perfectly fresh carrot for you!\n",
        "2. Learning how to properly append a set, and why random.randint was not working for what i intended\n",
        "3. I learned that random.choice is meant to choose a random number from a set, not random.randint\n",
        "4. adding specific strings and ints to a set, from other sets at the same time, and choosing a value based off of specific parameters "
      ]
    },
    {
      "cell_type": "markdown",
      "metadata": {
        "id": "_XXg2crAipwP",
        "colab_type": "text"
      },
      "source": [
        "## Stretch goals and resources\n",
        "\n",
        "Following are *optional* things for you to take a look at. Focus on the above assignment first, and make sure to commit and push your changes to GitHub (and since this is the first assignment of the sprint, open a PR as well).\n",
        "\n",
        "- [pandas documentation](https://pandas.pydata.org/pandas-docs/stable/)\n",
        "- [scikit-learn documentation](http://scikit-learn.org/stable/documentation.html)\n",
        "- [matplotlib documentation](https://matplotlib.org/contents.html)\n",
        "- [Awesome Data Science](https://github.com/bulutyazilim/awesome-datascience) - a list of many types of DS resources\n",
        "\n",
        "Stretch goals:\n",
        "\n",
        "- Find and read blogs, walkthroughs, and other examples of people working through cool things with data science - and share with your classmates!\n",
        "- Write a blog post (Medium is a popular place to publish) introducing yourself as somebody learning data science, and talking about what you've learned already and what you're excited to learn more about."
      ]
    }
  ]
}